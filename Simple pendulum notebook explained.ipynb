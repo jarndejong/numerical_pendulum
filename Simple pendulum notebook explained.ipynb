{
 "cells": [
  {
   "cell_type": "markdown",
   "metadata": {},
   "source": [
    "# Numerical solution for a single pendulum"
   ]
  },
  {
   "cell_type": "markdown",
   "metadata": {},
   "source": [
    "## The differential equation of the single pendulum reformatted"
   ]
  },
  {
   "cell_type": "markdown",
   "metadata": {},
   "source": [
    "The differential equation of the single pendulum is a non-linear second-order DE of the following form:\n",
    "\n",
    "$\\dfrac{d^{2}\\theta}{dt^{2}} = -mg\\sin(\\theta).$\n",
    "\n",
    "We write this as a system of coupled first order differential equations:\n",
    "\n",
    "\\begin{equation}\n",
    "\\begin{split}\n",
    "\\dfrac{d\\theta_0}{dt} &= \\theta_{1}, \\\\\n",
    "\\dfrac{d\\theta_1}{dt} &= -mg\\theta_{0}.\n",
    "\\end{split}\n",
    "\\end{equation}\\par\n",
    "\n",
    "If we then put $\\theta_{0}$ and $\\theta_{1}$ into a vector (let's call that $\\overrightarrow{y}$, so $\\overrightarrow{y} = \\begin{bmatrix} \\theta_{0} \\\\ \\theta_{1}\\end{bmatrix}$) we get:\n",
    "\n",
    "\n",
    "\\begin{equation}\n",
    "\\frac{d}{dt}\\overrightarrow{y} = \\begin{bmatrix}f_0(\\theta_{0},\\theta_{1},t) \\\\ f_1(\\theta_{0},\\theta_{1},t)\\end{bmatrix} = \\overrightarrow{f}(\\theta_{0},\\theta_{1},t).\n",
    "\\end{equation}\n",
    "with\n",
    "\\begin{equation}\n",
    "\\begin{split}\n",
    "f_0(\\theta_{0},\\theta_{1},t) &= \\theta_{1}, \\\\\n",
    "f_1(\\theta_{0},\\theta_{1},t) &= -mg\\theta_{0}.\n",
    "\\end{split}\n",
    "\\end{equation}\n",
    "\n",
    "Or, in other words, we now have the single first-order vector-differential equation:\n",
    "\n",
    "\\begin{equation}\n",
    "\\frac{d}{dt}\\overrightarrow{y} = \\overrightarrow{f}(\\overrightarrow{y},t).\n",
    "\\end{equation}\n",
    "\n",
    "We can now use Runge-Kutta methods to compute $\\overrightarrow{y}(t)$ at discretized timesteps as a function of the previous timestep(s). The most basic of these methods is the first-order Runge-Kutta method, also known as the Euler method:\n",
    "\n",
    "\\begin{equation}\n",
    "\\overrightarrow{y}[n+1] \\approx \\overrightarrow{y}[n]+\\Delta t * \\overrightarrow{f}[n],\n",
    "\\end{equation}\n",
    "with $\\Delta t$ the length of each time step.\n",
    "\n",
    "$\\overrightarrow{y}(n)$ is now easily computed in a for loop:"
   ]
  },
  {
   "cell_type": "code",
   "execution_count": 66,
   "metadata": {},
   "outputs": [],
   "source": [
    "## Import various functions\n",
    "import numpy as np\n",
    "from math import log10\n",
    "import matplotlib.pyplot as plt\n",
    "################################################################\n",
    "## Set various parameters and the initial conditions\n",
    "\n",
    "## Define the physical parameters\n",
    "# Define the mass of the bob\n",
    "m = 0.2 # kg\n",
    "\n",
    "# Define the length of the pendulum\n",
    "l = 0.5 # m\n",
    "\n",
    "# Define the gravitational constant\n",
    "g = 9.81 # m/s^2\n",
    "\n",
    "\n",
    "## Define simulation parameters\n",
    "# Set the length of each time step\n",
    "dt = 0.1 #sec\n",
    "# Set the total length of the simulation\n",
    "t_tot = 5\n",
    "\n",
    "#################################################################\n",
    "# Compute the total number of steps and the proper time that is a multiple of dt\n",
    "N_tot = int(t_tot/dt)\n",
    "t_act = dt * N_tot\n",
    "\n",
    "# Make the time vector t\n",
    "t = [np.round(x*dt,np.int(-np.floor(log10(dt)))) for x in range(N_tot+1)]\n",
    "\n",
    "\n",
    "\n",
    "# Pre-allocate y\n",
    "y_all = np.zeros((2,N_tot+1))\n"
   ]
  },
  {
   "cell_type": "code",
   "execution_count": 67,
   "metadata": {},
   "outputs": [],
   "source": [
    "## Define the function f and the initial conditions\n",
    "# Define f(y,t)\n",
    "def f(y,m,g):\n",
    "    '''Computes the function f(y,t) = [f_0,f_1] in the system of 1st order DE y'(t) = f(y,t); with f_0 = y[1] and f_1 = -mgsin(f_0). '''\n",
    "    f_0 = y[1]\n",
    "    f_1 = -1*m*g*np.sin(y[0])\n",
    "    return np.array([f_0,f_1])\n",
    "\n",
    "# Set the inital angle th[0] and radial velocity d/dt th[0]:\n",
    "th0 = 0.3 # rad\n",
    "v0 = 0 # rad/s\n",
    "y_all[:,0] = np.array([th0,v0])\n"
   ]
  },
  {
   "cell_type": "code",
   "execution_count": 68,
   "metadata": {},
   "outputs": [],
   "source": [
    "## Perform the simulation\n",
    "for n in range(N_tot):\n",
    "    y_all[:,n+1] = y_all[:,n]+dt*f(y_all[:,n],m,g)"
   ]
  },
  {
   "cell_type": "code",
   "execution_count": 69,
   "metadata": {},
   "outputs": [
    {
     "data": {
      "text/plain": [
       "[<matplotlib.lines.Line2D at 0x16f0ad4fb70>]"
      ]
     },
     "execution_count": 69,
     "metadata": {},
     "output_type": "execute_result"
    },
    {
     "data": {
      "image/png": "[encoded data removed]",
      "text/plain": [
       "<matplotlib.figure.Figure at 0x16f0ad4f748>"
      ]
     },
     "metadata": {},
     "output_type": "display_data"
    }
   ],
   "source": [
    "plt.plot(t,y_all[0,:])\n",
    "plt.plot(t,y_all[1,:])"
   ]
  },
  {
   "cell_type": "markdown",
   "metadata": {},
   "source": [
    "This algoritm is very simple but one needs a relatively large step size. Therefore, we can change to a new algoritm, the fourth-order (or simply \\textit{the}) Runge-Kutta method. We again have the following (system of) differential equations:\n",
    "\n",
    "\\begin{equation}\n",
    "\\frac{d}{dt}\\overrightarrow{y} = \\overrightarrow{f}(\\overrightarrow{y},t).\n",
    "\\end{equation}\n",
    "\n",
    "We again discretize $\\overrightarrow{y}(t)$, but now calculate $\\overrightarrow{y}(n+1)$ as follows:\n",
    "\\begin{equation}\n",
    "\\overrightarrow{y}(n+1) = \\overrightarrow{y}(n) + \\frac{1}{6}\\left(k_{1} + 2k_{2} + 2k_{3}+k_{4}\\right),\n",
    "\\end{equation}\n",
    "with:\n",
    "\\begin{equation}\n",
    "\\begin{split}\n",
    "k_{1} &= dt*\\overrightarrow{f}(\\overrightarrow{y}[n],t[n]) \\\\\n",
    "k_{2} &= dt*\\overrightarrow{f}(\\overrightarrow{y}[n]+\\frac{k_{1}}{2},t[n]+\\frac{dt}{2}) \\\\\n",
    "k_{3} &= dt*\\overrightarrow{f}(\\overrightarrow{y}[n]+\\frac{k_{2}}{2},t[n]+\\frac{dt}{2}) \\\\\n",
    "k_{4} &= dt*\\overrightarrow{f}(\\overrightarrow{y}[n]+k_{3},t[n]+dt). \\\\\n",
    "\\end{split}\n",
    "\\end{equation}\n",
    "\n",
    "What this essentially does is that it updates the estimated slope of the function and taking the average of the different updates. The Euler method is essentially using only $k_{1}$."
   ]
  },
  {
   "cell_type": "code",
   "execution_count": 70,
   "metadata": {},
   "outputs": [],
   "source": [
    "## Implement the R-K-4 method to calculate y:\n",
    "y_all_RK4 = np.zeros_like(y_all) # Preallocate new variable\n",
    "y_all_RK4[:,0] = y_all[:,0] # Enter the same initial conditions\n",
    "\n",
    "# Implement the new algoritm\n",
    "for n in range(N_tot):\n",
    "    # Calculate the different k's\n",
    "    k1 = dt*f(y_all_RK4[:,n],m,g)\n",
    "    k2 = dt*f(y_all_RK4[:,n]+k1/2,m,g)\n",
    "    k3 = dt*f(y_all_RK4[:,n]+k2/2,m,g)\n",
    "    k4 = dt*f(y_all_RK4[:,n]+k3,m,g)\n",
    "    \n",
    "    # Calculate y[n+1]\n",
    "    y_all_RK4[:,n+1] = y_all_RK4[:,n] + (1/6)*(k1 + 2*k2 + 2*k3 + k4)"
   ]
  },
  {
   "cell_type": "code",
   "execution_count": 71,
   "metadata": {},
   "outputs": [
    {
     "data": {
      "text/plain": [
       "[<matplotlib.lines.Line2D at 0x16f0ae14f28>]"
      ]
     },
     "execution_count": 71,
     "metadata": {},
     "output_type": "execute_result"
    },
    {
     "data": {
      "image/png": "[encoded data removed]",
      "text/plain": [
       "<matplotlib.figure.Figure at 0x16f0ada0390>"
      ]
     },
     "metadata": {},
     "output_type": "display_data"
    }
   ],
   "source": [
    "plt.plot(t,y_all_RK4[0,:])"
   ]
  },
  {
   "cell_type": "code",
   "execution_count": null,
   "metadata": {},
   "outputs": [],
   "source": []
  }
 ],
 "metadata": {
  "kernelspec": {
   "display_name": "Python 3",
   "language": "python",
   "name": "python3"
  },
  "language_info": {
   "codemirror_mode": {
    "name": "ipython",
    "version": 3
   },
   "file_extension": ".py",
   "mimetype": "text/x-python",
   "name": "python",
   "nbconvert_exporter": "python",
   "pygments_lexer": "ipython3",
   "version": "3.6.5"
  }
 },
 "nbformat": 4,
 "nbformat_minor": 2
}
